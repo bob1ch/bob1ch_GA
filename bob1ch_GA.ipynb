{
 "cells": [
  {
   "cell_type": "code",
   "execution_count": 6,
   "id": "ogSP9LUKtvAO",
   "metadata": {
    "id": "ogSP9LUKtvAO"
   },
   "outputs": [],
   "source": [
    "import tqdm.notebook as tqdm"
   ]
  },
  {
   "cell_type": "code",
   "execution_count": 7,
   "id": "a81f53f4",
   "metadata": {
    "id": "a81f53f4"
   },
   "outputs": [],
   "source": [
    "with open('input.txt', 'r') as in_file:\n",
    "    raw_data = in_file.readlines()\n",
    "N = int(raw_data[0].strip())\n",
    "tasks_difficult = [int(el) for el in raw_data[1].strip().split()]\n",
    "tasks_time = [float(el.strip()) for el in raw_data[2].strip().split()]\n",
    "M = int(raw_data[3].strip())\n",
    "tasks_diff_coef = [[ float(el) for el in line.strip().split()] for line in raw_data[4:]]"
   ]
  },
  {
   "cell_type": "code",
   "execution_count": 46,
   "id": "498baf24-febf-4f65-940b-d7a0689f3a03",
   "metadata": {
    "scrolled": true
   },
   "outputs": [
    {
     "data": {
      "text/plain": [
       "array([[1.09, 1.3 , 0.31, ..., 1.59, 0.77, 0.44],\n",
       "       [1.09, 1.3 , 0.31, ..., 1.59, 0.77, 0.44],\n",
       "       [1.09, 1.3 , 0.31, ..., 1.59, 0.77, 0.44],\n",
       "       ...,\n",
       "       [1.09, 1.67, 0.31, ..., 1.5 , 0.77, 0.44],\n",
       "       [1.09, 1.44, 0.31, ..., 1.59, 0.77, 0.37],\n",
       "       [1.09, 1.3 , 0.31, ..., 1.59, 0.77, 0.44]])"
      ]
     },
     "execution_count": 46,
     "metadata": {},
     "output_type": "execute_result"
    }
   ],
   "source": [
    "ga.individual_diff_coef"
   ]
  },
  {
   "cell_type": "code",
   "execution_count": 60,
   "id": "214718cd-f7f5-4cc8-b4fb-b1851b36f153",
   "metadata": {},
   "outputs": [
    {
     "data": {
      "text/plain": [
       "array([[0.54, 1.17, 1.52, 2.18],\n",
       "       [0.31, 0.66, 1.13, 1.76],\n",
       "       [0.48, 1.09, 1.78, 2.39],\n",
       "       [0.61, 1.09, 1.5 , 2.04],\n",
       "       [0.66, 1.02, 1.42, 1.79],\n",
       "       [0.44, 0.77, 1.16, 1.47],\n",
       "       [0.59, 1.23, 1.59, 2.13],\n",
       "       [0.49, 1.08, 1.67, 2.35],\n",
       "       [0.55, 1.  , 1.3 , 1.67],\n",
       "       [0.37, 0.8 , 1.44, 2.01]])"
      ]
     },
     "execution_count": 60,
     "metadata": {},
     "output_type": "execute_result"
    }
   ],
   "source": [
    "ga.np_tasks_diff_coef"
   ]
  },
  {
   "cell_type": "code",
   "execution_count": null,
   "id": "cd6aea76-29fb-4499-b67a-817d75e785c6",
   "metadata": {},
   "outputs": [],
   "source": [
    "1.09  1.3 0.31"
   ]
  },
  {
   "cell_type": "code",
   "execution_count": 70,
   "id": "7b3ef4ef-f4e5-4d18-9102-3bfb623f148e",
   "metadata": {
    "scrolled": true
   },
   "outputs": [
    {
     "data": {
      "text/plain": [
       "array([[1.09, 1.3 , 0.31, ..., 1.59, 0.77, 0.44],\n",
       "       [1.09, 1.3 , 0.31, ..., 1.59, 0.77, 0.44],\n",
       "       [1.09, 1.3 , 0.31, ..., 1.59, 0.77, 0.44],\n",
       "       ...,\n",
       "       [1.09, 1.67, 0.31, ..., 1.5 , 0.77, 0.44],\n",
       "       [1.09, 1.44, 0.31, ..., 1.59, 0.77, 0.37],\n",
       "       [1.09, 1.3 , 0.31, ..., 1.59, 0.77, 0.44]])"
      ]
     },
     "execution_count": 70,
     "metadata": {},
     "output_type": "execute_result"
    }
   ],
   "source": [
    "ga.np_tasks_diff_coef[ga.population, ga.np_tasks_diff]"
   ]
  },
  {
   "cell_type": "code",
   "execution_count": 59,
   "id": "8b063c36-d031-4c04-939c-93e77cd90e21",
   "metadata": {
    "scrolled": true
   },
   "outputs": [
    {
     "data": {
      "text/plain": [
       "array([[2, 8, 1, ..., 6, 5, 5],\n",
       "       [2, 8, 1, ..., 6, 5, 5],\n",
       "       [2, 8, 1, ..., 6, 5, 5],\n",
       "       ...,\n",
       "       [2, 7, 1, ..., 3, 5, 5],\n",
       "       [2, 9, 1, ..., 6, 5, 9],\n",
       "       [2, 8, 1, ..., 6, 5, 5]], dtype=int64)"
      ]
     },
     "execution_count": 59,
     "metadata": {},
     "output_type": "execute_result"
    }
   ],
   "source": [
    "ga.population"
   ]
  },
  {
   "cell_type": "code",
   "execution_count": 49,
   "id": "d9eda658-d13c-4407-851f-5f1e92e493bb",
   "metadata": {},
   "outputs": [
    {
     "data": {
      "text/plain": [
       "array([1, 2, 0, 1, 3, 3, 1, 1, 1, 3, 2, 2, 3, 3, 0, 2, 1, 3, 3, 0, 2, 0,\n",
       "       1, 1, 2, 1, 2, 1, 3, 3, 3, 2, 1, 2, 3, 3, 2, 0, 2, 3, 0, 0, 1, 1,\n",
       "       2, 1, 0, 2, 3, 2, 1, 1, 3, 1, 1, 0, 1, 2, 1, 2, 1, 3, 2, 1, 2, 0,\n",
       "       2, 1, 0, 3, 1, 3, 3, 3, 2, 1, 1, 0, 3, 0, 1, 3, 1, 0, 3, 0, 1, 1,\n",
       "       3, 2, 1, 2, 2, 0, 0, 2, 1, 0, 3, 3, 3, 3, 0, 1, 1, 0, 3, 0, 2, 1,\n",
       "       2, 0, 3, 3, 2, 2, 0, 0, 3, 0, 3, 0, 0, 1, 1, 3, 0, 2, 2, 2, 2, 3,\n",
       "       0, 3, 1, 3, 1, 0, 0, 1, 0, 2, 1, 3, 2, 3, 1, 3, 2, 0, 2, 3, 1, 3,\n",
       "       2, 1, 2, 1, 2, 3, 0, 3, 2, 3, 1, 1, 2, 2, 3, 3, 1, 3, 1, 3, 1, 2,\n",
       "       0, 3, 0, 0, 1, 3, 1, 1, 3, 3, 2, 2, 3, 1, 1, 1, 0, 3, 2, 0, 2, 2,\n",
       "       3, 2, 1, 0, 3, 2, 2, 0, 3, 2, 2, 3, 0, 2, 3, 1, 0, 2, 0, 1, 2, 1,\n",
       "       1, 1, 2, 3, 0, 1, 0, 0, 3, 0, 1, 1, 3, 1, 3, 3, 3, 0, 3, 2, 0, 2,\n",
       "       0, 3, 0, 2, 0, 3, 1, 0, 1, 1, 0, 1, 1, 0, 0, 2, 1, 0, 1, 2, 0, 1,\n",
       "       3, 0, 2, 3, 3, 0, 2, 1, 0, 1, 3, 3, 0, 0, 2, 3, 2, 3, 1, 3, 3, 1,\n",
       "       0, 1, 0, 1, 2, 1, 2, 2, 0, 1, 1, 2, 1, 1, 2, 0, 0, 0, 3, 2, 0, 0,\n",
       "       2, 0, 0, 0, 1, 3, 1, 3, 3, 0, 0, 0, 0, 1, 2, 0, 3, 3, 2, 1, 1, 2,\n",
       "       0, 2, 1, 3, 0, 0, 1, 0, 0, 0, 0, 0, 0, 3, 1, 3, 2, 3, 3, 2, 3, 0,\n",
       "       0, 1, 3, 3, 1, 2, 3, 3, 1, 3, 0, 3, 1, 3, 2, 3, 1, 3, 2, 2, 0, 1,\n",
       "       2, 0, 1, 1, 0, 3, 1, 3, 0, 2, 0, 0, 1, 2, 1, 3, 3, 2, 3, 2, 3, 1,\n",
       "       1, 1, 1, 2, 3, 1, 1, 3, 3, 1, 1, 3, 2, 0, 1, 0, 0, 1, 3, 1, 2, 3,\n",
       "       0, 3, 2, 1, 3, 3, 0, 3, 2, 3, 1, 0, 1, 1, 0, 1, 2, 3, 0, 3, 0, 1,\n",
       "       3, 0, 3, 0, 0, 1, 0, 3, 0, 1, 3, 2, 2, 2, 0, 0, 2, 3, 1, 3, 1, 1,\n",
       "       3, 1, 3, 2, 0, 2, 2, 3, 1, 1, 1, 1, 1, 3, 2, 3, 0, 0, 1, 3, 0, 2,\n",
       "       3, 1, 0, 2, 1, 3, 1, 1, 3, 2, 1, 3, 0, 3, 2, 0, 0, 2, 2, 3, 2, 2,\n",
       "       2, 2, 1, 1, 0, 1, 2, 0, 2, 2, 0, 3, 1, 1, 2, 3, 3, 1, 0, 1, 0, 2,\n",
       "       1, 0, 3, 2, 0, 3, 0, 0, 2, 3, 3, 2, 2, 0, 2, 0, 2, 0, 2, 1, 3, 2,\n",
       "       0, 3, 0, 0, 2, 1, 1, 0, 1, 0, 2, 3, 3, 0, 3, 2, 0, 2, 1, 0, 3, 0,\n",
       "       0, 2, 2, 2, 3, 2, 0, 0, 2, 3, 1, 2, 3, 1, 1, 1, 3, 1, 1, 1, 0, 2,\n",
       "       3, 1, 2, 0, 1, 1, 2, 1, 0, 0, 0, 0, 0, 3, 3, 2, 0, 1, 3, 3, 0, 0,\n",
       "       3, 3, 3, 1, 3, 2, 2, 3, 3, 3, 2, 0, 1, 1, 1, 1, 0, 1, 3, 3, 0, 1,\n",
       "       1, 2, 2, 2, 3, 3, 3, 0, 2, 1, 2, 1, 3, 0, 3, 2, 1, 1, 1, 3, 2, 1,\n",
       "       2, 1, 0, 3, 1, 1, 1, 2, 2, 2, 2, 1, 3, 0, 0, 2, 3, 2, 1, 1, 0, 2,\n",
       "       2, 1, 1, 0, 1, 1, 0, 0, 3, 1, 0, 0, 2, 2, 3, 2, 1, 0, 0, 1, 2, 0,\n",
       "       0, 2, 0, 0, 3, 0, 3, 1, 1, 2, 3, 0, 2, 1, 2, 3, 2, 3, 1, 0, 2, 2,\n",
       "       3, 2, 3, 3, 2, 1, 0, 1, 1, 1, 1, 1, 1, 3, 2, 0, 3, 1, 3, 3, 0, 1,\n",
       "       1, 1, 1, 2, 1, 0, 3, 1, 1, 1, 0, 1, 0, 3, 2, 3, 2, 2, 1, 1, 0, 3,\n",
       "       2, 1, 0, 0, 1, 3, 0, 3, 2, 2, 0, 3, 3, 2, 3, 2, 1, 3, 2, 2, 2, 3,\n",
       "       1, 3, 0, 3, 1, 3, 3, 2, 0, 3, 0, 3, 0, 2, 0, 3, 2, 0, 2, 1, 1, 3,\n",
       "       1, 2, 2, 2, 1, 3, 3, 1, 2, 1, 2, 1, 2, 0, 1, 0, 3, 1, 2, 2, 0, 3,\n",
       "       3, 1, 2, 0, 3, 0, 0, 3, 2, 1, 1, 3, 3, 0, 0, 1, 3, 1, 0, 1, 3, 0,\n",
       "       2, 1, 0, 1, 2, 3, 3, 2, 1, 2, 0, 2, 3, 0, 1, 1, 0, 0, 2, 1, 0, 0,\n",
       "       2, 1, 0, 2, 3, 1, 3, 1, 1, 0, 0, 2, 1, 0, 1, 1, 1, 0, 2, 2, 3, 3,\n",
       "       0, 0, 1, 1, 3, 0, 0, 0, 0, 3, 1, 2, 1, 2, 2, 1, 0, 1, 0, 1, 3, 0,\n",
       "       1, 3, 2, 2, 0, 0, 1, 3, 2, 3, 2, 1, 2, 2, 1, 0, 0, 1, 1, 0, 1, 3,\n",
       "       0, 3, 0, 1, 2, 3, 1, 0, 0, 2, 0, 2, 1, 2, 1, 2, 0, 3, 2, 0, 1, 3,\n",
       "       1, 0, 2, 2, 2, 0, 3, 1, 3, 3, 2, 0, 3, 0, 1, 3, 1, 3, 1, 0, 2, 2,\n",
       "       0, 0, 3, 0, 0, 0, 0, 2, 1, 0])"
      ]
     },
     "execution_count": 49,
     "metadata": {},
     "output_type": "execute_result"
    }
   ],
   "source": [
    "ga.np_tasks_diff"
   ]
  },
  {
   "cell_type": "code",
   "execution_count": 94,
   "id": "26f595f7",
   "metadata": {
    "id": "26f595f7"
   },
   "outputs": [],
   "source": [
    "import numpy as np\n",
    "\n",
    "class GeneticAlgorithm:\n",
    "\n",
    "    def __init__(\n",
    "      self,\n",
    "      N: int,\n",
    "      tasks_difficult: list[int],\n",
    "      tasks_time: list[float],\n",
    "      M: int,\n",
    "      tasks_diff_coef: list[list[float]],\n",
    "      size_population: int\n",
    "  ):\n",
    "        self.N = N #количество задач\n",
    "        self.M = M #количество работников\n",
    "        self.tasks_difficult = tasks_difficult #список сложностей задач\n",
    "        self.tasks_time = tasks_time #время на решение задачи\n",
    "        self.tasks_diff_coef = tasks_diff_coef #2D список коэффициентов решения задач (строка - номер рабоника, столбец задача, элемент - коэффициент)\n",
    "        self.size_population = size_population\n",
    "\n",
    "        self.rng = np.random.default_rng()\n",
    "        self.population = self.rng.integers(self.M, size=(size_population, self.N)) #тут создается популяция индив. строки - особи, столбцы - номер задачи\n",
    "\n",
    "    def fitness(self):\n",
    "\n",
    "        self.np_tasks_diff = np.array(self.tasks_difficult)-1\n",
    "        self.np_tasks_diff_coef = np.array(self.tasks_diff_coef)\n",
    "        self.individual_diff_coef = self.np_tasks_diff_coef[self.population, self.np_tasks_diff]\n",
    "        res = self.individual_diff_coef * self.tasks_time\n",
    "\n",
    "        #не робит\n",
    "        result = []\n",
    "        for worker in range(self.M):\n",
    "            result.append(res.sum(axis=1, where=self.population==worker))\n",
    "        #score = res.sum(axis=1)\n",
    "        return np.array(result).max(axis=0)\n",
    "    \n",
    "    #range selection\n",
    "    def selection(self, percent):\n",
    "        idx = np.argsort(self.fitness())[:round(self.size_population*percent)]\n",
    "        self.selected_individuums = self.population[idx]\n",
    "\n",
    "    '''def SUS(self, population, percent):\n",
    "        fitness = self.fitness()\n",
    "        F = fitness.sum()\n",
    "        N = round(len(fitness)*percent)\n",
    "        P = F/N\n",
    "        start = self.rng.random()*P\n",
    "        pointers = [start + i*P for i in range(N)]\n",
    "        return self.RWS(population, pointers, fitness)\n",
    "\n",
    "    def RWS(self, population, points, fitness):\n",
    "        keep = list()\n",
    "        cumsum = fitness.cumsum()\n",
    "        for point in points:\n",
    "            keep.append(np.sum(np.where(cumsum <= point, True, False))-1)\n",
    "        return keep'''\n",
    "\n",
    "    def uniform_crossover(self):\n",
    "        selected_size = self.selected_individuums.shape[0]\n",
    "        n_childrens = self.size_population - selected_size\n",
    "        mask = self.rng.choice([True, False], size=self.selected_individuums.shape[-1])\n",
    "\n",
    "        father = self.rng.integers(low=0, high=selected_size, size=selected_size)\n",
    "        shift = self.rng.integers(selected_size)\n",
    "        mother = (father + shift) % selected_size\n",
    "        self.new_generation = np.where(mask, self.selected_individuums[father], self.selected_individuums[mother])\n",
    "\n",
    "    #считает неправильно\n",
    "    def mutation(self):\n",
    "        n_mutants = self.rng.integers(self.new_generation.shape[0])\n",
    "        idx_mutants = self.rng.integers(self.new_generation.shape[0], size=n_mutants)\n",
    "        idx_gens = self.rng.choice([True, False], size=self.new_generation.shape[-1])\n",
    "        self.new_generation[idx_mutants] = np.where(idx_gens, self.rng.integers(self.M), self.new_generation[idx_mutants])\n",
    "    \n",
    "    def mutation1(self) -> None:\n",
    "        self.p_mutation_ind = 0.8\n",
    "        self.p_mutation_gen = 0.5\n",
    "        mask = self.rng.random(size=self.new_generation.shape[0]) <= self.p_mutation_ind\n",
    "        mutating_children = self.new_generation[mask]\n",
    "        mutating_children[...] = np.where(\n",
    "            self.rng.random(size=mutating_children.shape) <= self.p_mutation_gen,\n",
    "            self.rng.integers(low=0, high=self.M, size=mutating_children.shape),\n",
    "            mutating_children\n",
    "        )\n",
    "        self.new_generation[mask] = mutating_children\n",
    "\n",
    "    def step(self):\n",
    "        self.selection(0.5)\n",
    "        self.uniform_crossover()\n",
    "        self.mutation1()\n",
    "        self.population = np.concatenate([self.selected_individuums, self.new_generation], axis=0)\n",
    "\n",
    "\n",
    "ga = GeneticAlgorithm(N, tasks_difficult, tasks_time, M, tasks_diff_coef, 200)"
   ]
  },
  {
   "cell_type": "code",
   "execution_count": 95,
   "id": "tD-t-yaeuDwV",
   "metadata": {
    "colab": {
     "base_uri": "https://localhost:8080/",
     "height": 49,
     "referenced_widgets": [
      "366ce4d6d0d54704ba2aa653e8389d50",
      "a089c5007b084947a21b2b1b5e9f351e",
      "e17a9146ca004bb4923c60adf5ac238f",
      "4aad99ec34c14de4bb1d46bf0f3186a6",
      "421097421dd749a6ac3b4e93f62a0acc",
      "e470498566ab4b7aa1cc38509e55bc6b",
      "1348fc757e1d422a82707fb1591d7435",
      "08f54c6afe324b239bc6b5b975e200bf",
      "913e108c7f314c0e865890e214b69eaf",
      "683afa7a46a84240bb073f4f79a58250",
      "47e052ef13464a3d93358bf7c03bbc56"
     ]
    },
    "id": "tD-t-yaeuDwV",
    "outputId": "5e84fa3a-60cf-4c64-8be5-9e632569b17f"
   },
   "outputs": [
    {
     "data": {
      "application/vnd.jupyter.widget-view+json": {
       "model_id": "a6af36a2acd347e58e404800e183079f",
       "version_major": 2,
       "version_minor": 0
      },
      "text/plain": [
       "  0%|          | 0/5000 [00:00<?, ?it/s]"
      ]
     },
     "metadata": {},
     "output_type": "display_data"
    },
    {
     "data": {
      "text/plain": [
       "0.16480573523958628"
      ]
     },
     "execution_count": 95,
     "metadata": {},
     "output_type": "execute_result"
    }
   ],
   "source": [
    "progress_bar = tqdm.trange(5000)\n",
    "for i in progress_bar:\n",
    "    ga.step()\n",
    "100/ga.fitness().min()"
   ]
  },
  {
   "cell_type": "code",
   "execution_count": 30,
   "id": "43a96482",
   "metadata": {},
   "outputs": [
    {
     "data": {
      "text/plain": [
       "array([[6, 7, 3, ..., 1, 9, 8],\n",
       "       [6, 7, 3, ..., 1, 9, 8],\n",
       "       [6, 7, 3, ..., 1, 9, 8],\n",
       "       ...,\n",
       "       [6, 7, 3, ..., 1, 9, 8],\n",
       "       [6, 7, 3, ..., 1, 9, 8],\n",
       "       [6, 7, 3, ..., 1, 9, 8]], dtype=int64)"
      ]
     },
     "execution_count": 30,
     "metadata": {},
     "output_type": "execute_result"
    }
   ],
   "source": [
    "ga.population"
   ]
  },
  {
   "cell_type": "code",
   "execution_count": 127,
   "id": "02c61fd6",
   "metadata": {
    "colab": {
     "base_uri": "https://localhost:8080/"
    },
    "id": "02c61fd6",
    "outputId": "d8eb7908-f481-4ccd-ab1a-ec03d1a86cb2"
   },
   "outputs": [
    {
     "data": {
      "text/plain": [
       "0.16358178680385724"
      ]
     },
     "execution_count": 127,
     "metadata": {},
     "output_type": "execute_result"
    }
   ],
   "source": [
    "100/ga.fitness().min()"
   ]
  },
  {
   "cell_type": "code",
   "execution_count": null,
   "id": "f0ba7eed",
   "metadata": {},
   "outputs": [],
   "source": [
    "#0.017431791578527162"
   ]
  },
  {
   "cell_type": "code",
   "execution_count": 34,
   "id": "16bda6e3",
   "metadata": {},
   "outputs": [
    {
     "data": {
      "text/plain": [
       "2"
      ]
     },
     "execution_count": 34,
     "metadata": {},
     "output_type": "execute_result"
    }
   ],
   "source": [
    "rng = np.random.default_rng()\n",
    "rng.integers(low=0, high=4)"
   ]
  },
  {
   "cell_type": "code",
   "execution_count": 135,
   "id": "7jZ9HMJ2u-zb",
   "metadata": {
    "colab": {
     "base_uri": "https://localhost:8080/"
    },
    "id": "7jZ9HMJ2u-zb",
    "outputId": "bbfe2720-ea83-40c3-ce95-3f01c4a90862"
   },
   "outputs": [
    {
     "name": "stdout",
     "output_type": "stream",
     "text": [
      "4 9 9 3 2 7 7 2 10 6 10 10 2 8 7 5 6 2 6 7 8 3 5 10 1 6 10 5 1 3 9 1 4 2 6 4 9 8 3 9 6 10 3 2 8 9 8 7 7 5 6 10 3 1 7 10 2 5 10 5 1 8 2 6 8 5 6 7 1 6 3 7 1 3 5 1 6 3 1 9 6 5 9 10 9 3 10 6 7 10 4 6 7 4 7 10 8 7 1 8 7 2 4 9 9 2 1 2 4 2 9 7 4 6 3 3 2 6 1 7 1 7 4 7 5 8 2 6 5 2 5 10 8 4 4 3 1 8 2 2 5 9 3 7 6 6 6 9 3 7 3 6 4 10 9 9 10 4 2 5 2 10 5 9 9 4 1 8 6 6 6 8 9 9 5 4 4 3 10 4 8 10 4 5 5 2 7 10 3 10 5 2 8 5 2 6 2 10 4 1 7 3 6 3 9 4 4 2 8 7 4 4 1 5 2 3 10 2 2 9 4 6 9 2 4 10 5 9 6 7 1 4 9 2 3 2 9 6 4 9 8 4 2 10 10 10 8 9 10 5 5 7 3 2 10 8 9 1 9 10 1 9 3 3 3 2 5 1 10 7 8 7 1 6 7 7 6 7 8 2 1 9 8 5 4 8 9 7 2 8 9 9 10 4 2 2 4 9 2 3 8 9 2 9 5 5 7 3 10 8 5 2 8 5 2 7 4 2 8 2 9 6 9 8 10 2 8 10 1 7 2 4 9 9 4 8 2 6 4 7 8 2 4 9 4 3 8 6 9 3 6 2 10 9 1 9 1 4 8 7 7 2 5 8 1 6 1 7 9 5 2 2 8 9 7 7 5 9 2 2 1 2 3 1 4 5 9 6 6 2 3 8 5 4 4 3 6 10 9 7 4 3 9 6 3 2 10 5 7 6 7 5 5 1 1 6 5 6 7 8 6 8 3 3 2 1 4 5 10 2 6 8 5 4 2 7 3 6 4 5 2 6 5 3 10 4 8 10 10 1 1 4 8 2 5 10 10 8 1 10 6 3 9 2 7 9 9 7 8 10 6 3 8 10 1 4 1 8 10 8 2 9 9 9 1 9 10 4 5 5 7 9 5 3 9 10 2 1 1 8 10 6 8 4 10 1 3 3 4 8 4 4 6 10 5 8 7 10 3 7 5 7 5 2 2 1 10 9 8 1 5 3 10 9 8 7 1 1 5 6 2 1 3 9 6 8 7 8 6 3 10 5 2 10 10 5 8 6 6 1 1 6 1 10 9 2 4 6 1 2 3 2 5 4 1 5 5 5 8 1 5 2 2 10 7 4 5 9 2 6 6 8 10 5 7 2 4 2 5 4 4 7 6 1 8 7 8 7 4 9 8 4 7 7 2 5 2 6 4 2 4 9 4 1 6 6 7 9 2 5 6 10 1 2 6 10 9 1 1 10 4 7 3 10 3 7 6 3 3 10 2 4 5 1 1 9 10 9 6 4 10 8 7 1 3 10 8 9 9 4 1 3 2 3 10 4 1 4 5 7 9 2 7 3 6 7 5 5 7 2 4 4 5 4 4 6 9 7 1 1 5 1 9 8 4 1 3 8 3 10 6 4 8 8 9 3 5 6 8 3 1 7 2 3 8 5 7 5 1 9 4 10 4 10 5 8 7 8 2 10 8 8 3 8 2 9 6 2 2 1 3 2 6 2 7 9 9 10 2 3 2 2 8 1 2 8 8 4 2 3 5 10 7 2 5 5 7 2 3 4 3 2 2 5 3 7 10 8 4 2 3 2 2 7 4 6 3 8 9 6 7 4 10 1 9 4 2 3 2 2 7 10 4 6 10 3 9 2 10 6 2 2 10 8 10 9 1 3 10 3 10 3 10 8 6 3 10 8 7 6 6 7 7 3 5 3 5 10 8 7 2 2 5 8 10 9 5 8 8 9 6 5 2 10 8 2 7 6 9 4 1 6 3 1 10 2 10 5 2 2 6 4 10 10 6 6 6 6 4 9 6 8 1 9 3 9 9 3 10 2 4 1 4 3 6 8 7 10 6 8 5 4 9 8 7 5 8 2 4 3 3 4 8 4 8 5 9 1 4 5 10 4 5 10 5 3 4 5 7 4 9 10 2 10 6 2 7 6 3 1 2 8 10 7 8 6 3 4 8 4 5 9 3 4 8 10 8 10 10 8 9 6 6 2 4 5 7 9 6 7 1 8 4 8 6 8 7 9 10 1 8 8 9 7 8 6 10 5 6 5\n"
     ]
    }
   ],
   "source": [
    "print(*ga.population[np.argmin(ga.fitness())]+1)"
   ]
  },
  {
   "cell_type": "code",
   "execution_count": 57,
   "id": "1ba61ab8",
   "metadata": {},
   "outputs": [],
   "source": [
    "#0.11562297659790949\n",
    "\n",
    "#4 2 8 5 2 9 3 3 10 3 4 10 10 3 2 4 10 5 7 1 8 8 6 8 4 9 7 7 3 2 6 1 7 10 1 8 3 6 5 9 2 1 6 3 1 10 1 9 7 9 6 10 7 2 5 10 9 6 1 1 7 1 7 2 4 7 4 9 8 8 5 8 9 7 1 7 3 2 4 10 2 5 4 10 10 1 7 2 4 3 2 4 5 3 6 2 5 8 2 4 4 6 3 5 10 8 4 3 3 2 10 7 10 6 9 2 1 7 7 10 4 2 5 6 3 8 6 2 7 2 5 8 8 8 9 9 8 3 5 6 3 5 2 6 2 6 10 9 10 5 2 3 4 6 9 7 8 2 1 2 5 1 1 4 6 6 2 9 6 8 4 10 6 1 3 7 1 10 5 3 3 6 2 5 8 7 6 1 3 5 4 9 3 2 10 1 10 2 5 7 1 6 1 10 10 3 7 1 2 1 1 6 9 8 1 6 10 10 2 2 3 2 4 3 7 5 6 3 8 6 6 4 5 2 10 1 10 10 6 10 8 2 7 10 2 4 5 6 9 10 3 3 2 7 7 1 8 1 4 7 5 6 3 1 5 6 4 9 4 4 7 6 3 9 9 5 6 1 9 5 5 4 4 10 6 7 2 5 3 1 4 10 8 2 6 10 6 7 10 3 7 4 6 3 6 1 2 7 2 1 2 7 4 5 8 7 5 7 8 2 2 9 4 4 6 9 9 10 5 8 7 4 10 2 9 1 8 6 3 2 9 3 1 2 6 7 1 5 1 8 3 1 4 6 10 6 1 8 5 2 7 2 9 10 7 1 2 6 5 3 6 6 5 1 5 8 1 10 4 10 6 2 1 7 5 1 2 1 10 9 2 9 7 8 3 5 8 2 5 5 5 2 7 3 8 5 3 10 3 2 2 1 3 3 2 8 5 9 1 8 9 9 8 7 2 5 10 2 7 10 8 3 6 2 7 5 9 1 7 1 3 6 2 4 8 10 9 4 4 7 3 8 10 1 5 5 9 1 4 8 5 6 6 8 9 7 4 8 2 9 1 4 5 2 3 3 2 2 3 8 4 10 6 2 1 2 1 4 10 8 7 2 3 6 2 4 1 1 5 7 8 2 6 1 3 8 2 8 1 9 10 5 5 5 8 1 6 4 10 9 1 9 7 1 5 5 3 4 2 10 2 3 9 4 6 6 6 6 6 8 6 10 8 9 10 10 7 3 8 7 6 10 10 1 8 8 1 9 5 1 9 9 10 7 1 10 7 3 7 8 7 2 4 4 9 6 1 2 8 3 7 1 6 2 1 4 3 9 1 1 10 5 7 9 5 8 2 8 1 1 2 7 3 10 6 2 1 9 4 9 2 6 3 7 9 1 4 10 2 2 2 1 6 5 9 1 5 2 8 4 2 8 7 10 10 4 10 8 3 1 10 9 7 4 8 4 3 6 5 2 1 7 3 9 6 4 6 6 5 5 2 9 3 6 8 4 8 10 4 4 4 1 2 1 8 2 9 2 4 5 2 10 8 6 2 9 10 8 3 2 6 3 1 1 8 8 2 4 10 5 6 1 9 2 3 4 10 7 1 4 6 6 1 6 7 1 1 8 5 7 8 1 3 3 7 9 2 2 3 9 10 4 10 8 1 5 6 8 1 4 8 1 9 1 3 9 8 6 7 8 5 4 6 3 5 9 5 9 10 9 5 5 1 4 1 10 3 10 7 9 8 2 4 10 10 6 3 3 4 9 8 5 6 8 2 2 5 9 4 8 7 8 2 5 1 8 2 2 1 6 7 3 7 9 4 7 6 9 9 3 7 6 3 6 2 7 5 2 6 2 5 4 5 7 6 1 4 5 1 1 5 6 4 4 2 1 1 2 4 5 6 4 4 3 3 6 1 9 4 3 10 1 10 5 1 2 2 1 4 5 5 3 6 8 3 4 3 8 8 6 2 10 10 4 8 1 4 6 4 4 8 5 2 6 6 5 10 2 6 7 6 9 8 2 6 7 1 3 10 1 8 5 3 2 10 1 2 4 3 8 1 2 3 7 7 10 5 6 2 10 2 2 5 4 2 10 4 1 1 1 1 2 2 9 1 9 1 1 5 4 3 6 4 5 6 5 1 2 3 1 5 5 7 3 10 2 9 4 2 1 10 4 10 3 5 3 1 1 4 3 6 3 1 10 8 2 7 7 9 4 9 6 2 6 7 2 4 2 1 10 6 1 6 3 6 6 9 7 1 1"
   ]
  },
  {
   "cell_type": "code",
   "execution_count": null,
   "id": "abb192b1",
   "metadata": {},
   "outputs": [],
   "source": []
  }
 ],
 "metadata": {
  "colab": {
   "provenance": []
  },
  "kernelspec": {
   "display_name": "Python 3 (ipykernel)",
   "language": "python",
   "name": "python3"
  },
  "language_info": {
   "codemirror_mode": {
    "name": "ipython",
    "version": 3
   },
   "file_extension": ".py",
   "mimetype": "text/x-python",
   "name": "python",
   "nbconvert_exporter": "python",
   "pygments_lexer": "ipython3",
   "version": "3.12.1"
  },
  "widgets": {
   "application/vnd.jupyter.widget-state+json": {
    "08f54c6afe324b239bc6b5b975e200bf": {
     "model_module": "@jupyter-widgets/base",
     "model_module_version": "1.2.0",
     "model_name": "LayoutModel",
     "state": {
      "_model_module": "@jupyter-widgets/base",
      "_model_module_version": "1.2.0",
      "_model_name": "LayoutModel",
      "_view_count": null,
      "_view_module": "@jupyter-widgets/base",
      "_view_module_version": "1.2.0",
      "_view_name": "LayoutView",
      "align_content": null,
      "align_items": null,
      "align_self": null,
      "border": null,
      "bottom": null,
      "display": null,
      "flex": null,
      "flex_flow": null,
      "grid_area": null,
      "grid_auto_columns": null,
      "grid_auto_flow": null,
      "grid_auto_rows": null,
      "grid_column": null,
      "grid_gap": null,
      "grid_row": null,
      "grid_template_areas": null,
      "grid_template_columns": null,
      "grid_template_rows": null,
      "height": null,
      "justify_content": null,
      "justify_items": null,
      "left": null,
      "margin": null,
      "max_height": null,
      "max_width": null,
      "min_height": null,
      "min_width": null,
      "object_fit": null,
      "object_position": null,
      "order": null,
      "overflow": null,
      "overflow_x": null,
      "overflow_y": null,
      "padding": null,
      "right": null,
      "top": null,
      "visibility": null,
      "width": null
     }
    },
    "1348fc757e1d422a82707fb1591d7435": {
     "model_module": "@jupyter-widgets/controls",
     "model_module_version": "1.5.0",
     "model_name": "DescriptionStyleModel",
     "state": {
      "_model_module": "@jupyter-widgets/controls",
      "_model_module_version": "1.5.0",
      "_model_name": "DescriptionStyleModel",
      "_view_count": null,
      "_view_module": "@jupyter-widgets/base",
      "_view_module_version": "1.2.0",
      "_view_name": "StyleView",
      "description_width": ""
     }
    },
    "366ce4d6d0d54704ba2aa653e8389d50": {
     "model_module": "@jupyter-widgets/controls",
     "model_module_version": "1.5.0",
     "model_name": "HBoxModel",
     "state": {
      "_dom_classes": [],
      "_model_module": "@jupyter-widgets/controls",
      "_model_module_version": "1.5.0",
      "_model_name": "HBoxModel",
      "_view_count": null,
      "_view_module": "@jupyter-widgets/controls",
      "_view_module_version": "1.5.0",
      "_view_name": "HBoxView",
      "box_style": "",
      "children": [
       "IPY_MODEL_a089c5007b084947a21b2b1b5e9f351e",
       "IPY_MODEL_e17a9146ca004bb4923c60adf5ac238f",
       "IPY_MODEL_4aad99ec34c14de4bb1d46bf0f3186a6"
      ],
      "layout": "IPY_MODEL_421097421dd749a6ac3b4e93f62a0acc"
     }
    },
    "421097421dd749a6ac3b4e93f62a0acc": {
     "model_module": "@jupyter-widgets/base",
     "model_module_version": "1.2.0",
     "model_name": "LayoutModel",
     "state": {
      "_model_module": "@jupyter-widgets/base",
      "_model_module_version": "1.2.0",
      "_model_name": "LayoutModel",
      "_view_count": null,
      "_view_module": "@jupyter-widgets/base",
      "_view_module_version": "1.2.0",
      "_view_name": "LayoutView",
      "align_content": null,
      "align_items": null,
      "align_self": null,
      "border": null,
      "bottom": null,
      "display": null,
      "flex": null,
      "flex_flow": null,
      "grid_area": null,
      "grid_auto_columns": null,
      "grid_auto_flow": null,
      "grid_auto_rows": null,
      "grid_column": null,
      "grid_gap": null,
      "grid_row": null,
      "grid_template_areas": null,
      "grid_template_columns": null,
      "grid_template_rows": null,
      "height": null,
      "justify_content": null,
      "justify_items": null,
      "left": null,
      "margin": null,
      "max_height": null,
      "max_width": null,
      "min_height": null,
      "min_width": null,
      "object_fit": null,
      "object_position": null,
      "order": null,
      "overflow": null,
      "overflow_x": null,
      "overflow_y": null,
      "padding": null,
      "right": null,
      "top": null,
      "visibility": null,
      "width": null
     }
    },
    "47e052ef13464a3d93358bf7c03bbc56": {
     "model_module": "@jupyter-widgets/controls",
     "model_module_version": "1.5.0",
     "model_name": "DescriptionStyleModel",
     "state": {
      "_model_module": "@jupyter-widgets/controls",
      "_model_module_version": "1.5.0",
      "_model_name": "DescriptionStyleModel",
      "_view_count": null,
      "_view_module": "@jupyter-widgets/base",
      "_view_module_version": "1.2.0",
      "_view_name": "StyleView",
      "description_width": ""
     }
    },
    "4aad99ec34c14de4bb1d46bf0f3186a6": {
     "model_module": "@jupyter-widgets/controls",
     "model_module_version": "1.5.0",
     "model_name": "HTMLModel",
     "state": {
      "_dom_classes": [],
      "_model_module": "@jupyter-widgets/controls",
      "_model_module_version": "1.5.0",
      "_model_name": "HTMLModel",
      "_view_count": null,
      "_view_module": "@jupyter-widgets/controls",
      "_view_module_version": "1.5.0",
      "_view_name": "HTMLView",
      "description": "",
      "description_tooltip": null,
      "layout": "IPY_MODEL_683afa7a46a84240bb073f4f79a58250",
      "placeholder": "​",
      "style": "IPY_MODEL_47e052ef13464a3d93358bf7c03bbc56",
      "value": " 50000/50000 [04:10&lt;00:00, 156.48it/s]"
     }
    },
    "683afa7a46a84240bb073f4f79a58250": {
     "model_module": "@jupyter-widgets/base",
     "model_module_version": "1.2.0",
     "model_name": "LayoutModel",
     "state": {
      "_model_module": "@jupyter-widgets/base",
      "_model_module_version": "1.2.0",
      "_model_name": "LayoutModel",
      "_view_count": null,
      "_view_module": "@jupyter-widgets/base",
      "_view_module_version": "1.2.0",
      "_view_name": "LayoutView",
      "align_content": null,
      "align_items": null,
      "align_self": null,
      "border": null,
      "bottom": null,
      "display": null,
      "flex": null,
      "flex_flow": null,
      "grid_area": null,
      "grid_auto_columns": null,
      "grid_auto_flow": null,
      "grid_auto_rows": null,
      "grid_column": null,
      "grid_gap": null,
      "grid_row": null,
      "grid_template_areas": null,
      "grid_template_columns": null,
      "grid_template_rows": null,
      "height": null,
      "justify_content": null,
      "justify_items": null,
      "left": null,
      "margin": null,
      "max_height": null,
      "max_width": null,
      "min_height": null,
      "min_width": null,
      "object_fit": null,
      "object_position": null,
      "order": null,
      "overflow": null,
      "overflow_x": null,
      "overflow_y": null,
      "padding": null,
      "right": null,
      "top": null,
      "visibility": null,
      "width": null
     }
    },
    "913e108c7f314c0e865890e214b69eaf": {
     "model_module": "@jupyter-widgets/controls",
     "model_module_version": "1.5.0",
     "model_name": "ProgressStyleModel",
     "state": {
      "_model_module": "@jupyter-widgets/controls",
      "_model_module_version": "1.5.0",
      "_model_name": "ProgressStyleModel",
      "_view_count": null,
      "_view_module": "@jupyter-widgets/base",
      "_view_module_version": "1.2.0",
      "_view_name": "StyleView",
      "bar_color": null,
      "description_width": ""
     }
    },
    "a089c5007b084947a21b2b1b5e9f351e": {
     "model_module": "@jupyter-widgets/controls",
     "model_module_version": "1.5.0",
     "model_name": "HTMLModel",
     "state": {
      "_dom_classes": [],
      "_model_module": "@jupyter-widgets/controls",
      "_model_module_version": "1.5.0",
      "_model_name": "HTMLModel",
      "_view_count": null,
      "_view_module": "@jupyter-widgets/controls",
      "_view_module_version": "1.5.0",
      "_view_name": "HTMLView",
      "description": "",
      "description_tooltip": null,
      "layout": "IPY_MODEL_e470498566ab4b7aa1cc38509e55bc6b",
      "placeholder": "​",
      "style": "IPY_MODEL_1348fc757e1d422a82707fb1591d7435",
      "value": "100%"
     }
    },
    "e17a9146ca004bb4923c60adf5ac238f": {
     "model_module": "@jupyter-widgets/controls",
     "model_module_version": "1.5.0",
     "model_name": "FloatProgressModel",
     "state": {
      "_dom_classes": [],
      "_model_module": "@jupyter-widgets/controls",
      "_model_module_version": "1.5.0",
      "_model_name": "FloatProgressModel",
      "_view_count": null,
      "_view_module": "@jupyter-widgets/controls",
      "_view_module_version": "1.5.0",
      "_view_name": "ProgressView",
      "bar_style": "success",
      "description": "",
      "description_tooltip": null,
      "layout": "IPY_MODEL_08f54c6afe324b239bc6b5b975e200bf",
      "max": 50000,
      "min": 0,
      "orientation": "horizontal",
      "style": "IPY_MODEL_913e108c7f314c0e865890e214b69eaf",
      "value": 50000
     }
    },
    "e470498566ab4b7aa1cc38509e55bc6b": {
     "model_module": "@jupyter-widgets/base",
     "model_module_version": "1.2.0",
     "model_name": "LayoutModel",
     "state": {
      "_model_module": "@jupyter-widgets/base",
      "_model_module_version": "1.2.0",
      "_model_name": "LayoutModel",
      "_view_count": null,
      "_view_module": "@jupyter-widgets/base",
      "_view_module_version": "1.2.0",
      "_view_name": "LayoutView",
      "align_content": null,
      "align_items": null,
      "align_self": null,
      "border": null,
      "bottom": null,
      "display": null,
      "flex": null,
      "flex_flow": null,
      "grid_area": null,
      "grid_auto_columns": null,
      "grid_auto_flow": null,
      "grid_auto_rows": null,
      "grid_column": null,
      "grid_gap": null,
      "grid_row": null,
      "grid_template_areas": null,
      "grid_template_columns": null,
      "grid_template_rows": null,
      "height": null,
      "justify_content": null,
      "justify_items": null,
      "left": null,
      "margin": null,
      "max_height": null,
      "max_width": null,
      "min_height": null,
      "min_width": null,
      "object_fit": null,
      "object_position": null,
      "order": null,
      "overflow": null,
      "overflow_x": null,
      "overflow_y": null,
      "padding": null,
      "right": null,
      "top": null,
      "visibility": null,
      "width": null
     }
    }
   }
  }
 },
 "nbformat": 4,
 "nbformat_minor": 5
}
